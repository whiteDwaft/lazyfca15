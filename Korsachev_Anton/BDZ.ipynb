{
 "cells": [
  {
   "cell_type": "markdown",
   "metadata": {},
   "source": [
    "### Ссылка на датасет:https://archive.ics.uci.edu/ml/datasets/Tic-Tac-Toe+Endgame"
   ]
  },
  {
   "cell_type": "code",
   "execution_count": 1,
   "metadata": {},
   "outputs": [],
   "source": [
    "import numpy as np\n",
    "import pandas as pd\n",
    "from sklearn.model_selection import train_test_split\n",
    "import sklearn.model_selection"
   ]
  },
  {
   "cell_type": "markdown",
   "metadata": {},
   "source": [
    "Создание csv-файла и приведение выборки к бинарным параметрам"
   ]
  },
  {
   "cell_type": "code",
   "execution_count": 2,
   "metadata": {},
   "outputs": [],
   "source": [
    "columns = ['top-left-square', 'top-middle-square', 'top-right-square', 'middle-left-square',\n",
    "           'middle-middle-square', 'middle-right-square', 'bottom-left-square',\n",
    "           'bottom-middle-square', 'bottom-right-square', 'Class']\n",
    "data = pd.read_csv(\"tic-tac-toe.data\", header=None)\n",
    "data.columns = columns\n",
    "data.Class = data.Class.map(lambda x: 1 if x == 'positive' else 0)\n",
    "data.to_csv('tic-tac-toe.csv', index=False)\n",
    "\n",
    "data = pd.get_dummies(data)\n",
    "X = data.iloc[:, 1:].values\n",
    "y = data.iloc[:, 0].values"
   ]
  },
  {
   "cell_type": "markdown",
   "metadata": {},
   "source": [
    "Разделение выьорки на обучаемую и тестовую (70/30) "
   ]
  },
  {
   "cell_type": "code",
   "execution_count": 3,
   "metadata": {},
   "outputs": [],
   "source": [
    "X_train, X_test, y_train, y_test = train_test_split(X, y, test_size=0.3, random_state=1)"
   ]
  },
  {
   "cell_type": "markdown",
   "metadata": {},
   "source": [
    "Метрики"
   ]
  },
  {
   "cell_type": "code",
   "execution_count": 4,
   "metadata": {},
   "outputs": [],
   "source": [
    "def TP(y_true, y_pred):\n",
    "    confusion_matrix = sklearn.metrics.confusion_matrix(y_true, y_pred)\n",
    "    return confusion_matrix[0,0]\n",
    "\n",
    "def TN(y_true, y_pred):\n",
    "    confusion_matrix = sklearn.metrics.confusion_matrix(y_true, y_pred)\n",
    "    return confusion_matrix[1,1]\n",
    "\n",
    "def FP(y_true, y_pred):\n",
    "    confusion_matrix = sklearn.metrics.confusion_matrix(y_true, y_pred)\n",
    "    return confusion_matrix[1,0]\n",
    "\n",
    "def FN(y_true, y_pred):\n",
    "    confusion_matrix = sklearn.metrics.confusion_matrix(y_true, y_pred)\n",
    "    return confusion_matrix[0,1]\n",
    "\n",
    "def TPR(y_true, y_pred):\n",
    "    return TP(y_true, y_pred)/(TP(y_true, y_pred) + FN(y_true, y_pred))\n",
    "\n",
    "def TNR(y_true, y_pred):\n",
    "    return TN(y_true, y_pred)/(TN(y_true, y_pred) + FP(y_true, y_pred))\n",
    "\n",
    "def NPV(y_true, y_pred):\n",
    "    return TN(y_true, y_pred)/(TN(y_true, y_pred) + FN(y_true, y_pred))\n",
    "\n",
    "def FPR(y_true, y_pred):\n",
    "    return FP(y_true, y_pred)/(FP(y_true, y_pred) + TN(y_true, y_pred))\n",
    "\n",
    "def FDR(y_true, y_pred):\n",
    "    return FP(y_true, y_pred)/(FP(y_true, y_pred) + TP(y_true, y_pred))\n",
    "\n",
    "def TNR(y_true, y_pred):\n",
    "    return TN(y_true, y_pred)/(TN(y_true, y_pred) + FP(y_true, y_pred))\n",
    "\n",
    "metrics = [TP, TN, FP, FN, TPR, TNR, NPV, FPR, FDR, TNR,\n",
    "           sklearn.metrics.accuracy_score, sklearn.metrics.precision_score,\n",
    "           sklearn.metrics.recall_score, sklearn.metrics.roc_auc_score, sklearn.metrics.f1_score]\n",
    "metrics_names = [func.__name__ for func in metrics]"
   ]
  },
  {
   "cell_type": "markdown",
   "metadata": {},
   "source": [
    "### 1-й алгоритм классификации - Метод к-ближайших соседей"
   ]
  },
  {
   "cell_type": "markdown",
   "metadata": {},
   "source": [
    "Вначале произведем маштабирование методом градиентного спуска"
   ]
  },
  {
   "cell_type": "code",
   "execution_count": 5,
   "metadata": {},
   "outputs": [],
   "source": [
    "from sklearn.preprocessing import StandardScaler\n",
    "scaler = StandardScaler()\n",
    "scaler.fit(X_train)\n",
    "\n",
    "X_train = scaler.transform(X_train)\n",
    "X_test = scaler.transform(X_test)"
   ]
  },
  {
   "cell_type": "markdown",
   "metadata": {},
   "source": [
    "Обучение и предсказание"
   ]
  },
  {
   "cell_type": "code",
   "execution_count": 6,
   "metadata": {},
   "outputs": [],
   "source": [
    "from sklearn.neighbors import KNeighborsClassifier\n",
    "classifier = KNeighborsClassifier(n_neighbors=5)\n",
    "classifier.fit(X_train, y_train)\n",
    "\n",
    "y_pred = classifier.predict(X_test)"
   ]
  },
  {
   "cell_type": "markdown",
   "metadata": {},
   "source": [
    "Получение результатов отностительно метрик"
   ]
  },
  {
   "cell_type": "code",
   "execution_count": 7,
   "metadata": {},
   "outputs": [
    {
     "name": "stdout",
     "output_type": "stream",
     "text": [
      "TP = 57\n",
      "TN = 165\n",
      "FP = 19\n",
      "FN = 47\n",
      "TPR = 0.5480769230769231\n",
      "TNR = 0.8967391304347826\n",
      "NPV = 0.7783018867924528\n",
      "FPR = 0.10326086956521739\n",
      "FDR = 0.25\n",
      "TNR = 0.8967391304347826\n",
      "accuracy_score = 0.7708333333333334\n",
      "precision_score = 0.7783018867924528\n",
      "recall_score = 0.8967391304347826\n",
      "roc_auc_score = 0.7224080267558529\n",
      "f1_score = 0.8333333333333334\n"
     ]
    }
   ],
   "source": [
    "for metric_name, metric in zip(metrics_names, metrics):\n",
    "    score = metric(y_test, y_pred)\n",
    "    print(metric_name, '=', score)"
   ]
  },
  {
   "cell_type": "markdown",
   "metadata": {},
   "source": [
    "### 2-й алгоритм классификации - Random Forest"
   ]
  },
  {
   "cell_type": "code",
   "execution_count": 8,
   "metadata": {},
   "outputs": [
    {
     "name": "stdout",
     "output_type": "stream",
     "text": [
      "TP = 90\n",
      "TN = 183\n",
      "FP = 1\n",
      "FN = 14\n",
      "TPR = 0.8653846153846154\n",
      "TNR = 0.9945652173913043\n",
      "NPV = 0.9289340101522843\n",
      "FPR = 0.005434782608695652\n",
      "FDR = 0.01098901098901099\n",
      "TNR = 0.9945652173913043\n",
      "accuracy_score = 0.9479166666666666\n",
      "precision_score = 0.9289340101522843\n",
      "recall_score = 0.9945652173913043\n",
      "roc_auc_score = 0.9299749163879598\n",
      "f1_score = 0.9606299212598426\n"
     ]
    }
   ],
   "source": [
    "from sklearn.preprocessing import StandardScaler\n",
    "scaler = StandardScaler()\n",
    "scaler.fit(X_train)\n",
    "\n",
    "X_train = scaler.transform(X_train)\n",
    "X_test = scaler.transform(X_test)\n",
    "\n",
    "from sklearn.ensemble import RandomForestClassifier\n",
    "\n",
    "regressor = RandomForestClassifier(n_estimators=20, random_state=0)\n",
    "regressor.fit(X_train, y_train)\n",
    "y_pred = regressor.predict(X_test)\n",
    "\n",
    "for metric_name, metric in zip(metrics_names, metrics):\n",
    "    score = metric(y_test, y_pred)\n",
    "    print(metric_name, '=', score)"
   ]
  },
  {
   "cell_type": "code",
   "execution_count": null,
   "metadata": {},
   "outputs": [],
   "source": []
  }
 ],
 "metadata": {
  "kernelspec": {
   "display_name": "Python 3",
   "language": "python",
   "name": "python3"
  },
  "language_info": {
   "codemirror_mode": {
    "name": "ipython",
    "version": 3
   },
   "file_extension": ".py",
   "mimetype": "text/x-python",
   "name": "python",
   "nbconvert_exporter": "python",
   "pygments_lexer": "ipython3",
   "version": "3.8.5"
  }
 },
 "nbformat": 4,
 "nbformat_minor": 4
}
