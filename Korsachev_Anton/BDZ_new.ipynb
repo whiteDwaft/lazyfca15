{
 "cells": [
  {
   "cell_type": "code",
   "execution_count": 42,
   "metadata": {
    "collapsed": true
   },
   "outputs": [],
   "source": [
    "import pandas as pd"
   ]
  },
  {
   "cell_type": "code",
   "execution_count": 26,
   "metadata": {
    "collapsed": true
   },
   "outputs": [],
   "source": [
    "import numpy as np\n",
    "import datetime\n",
    "from sklearn.metrics import accuracy_score\n",
    "from sklearn.metrics import roc_auc_score\n",
    "from sklearn.metrics import precision_score\n",
    "from sklearn.metrics import recall_score"
   ]
  },
  {
   "cell_type": "code",
   "execution_count": 17,
   "metadata": {},
   "outputs": [],
   "source": [
    "def print_metris_all(y_test, y_pred):\n",
    "    acc = accuracy_score(y_test, y_pred)\n",
    "    roc_auc=roc_auc_score(y_test, y_pred)\n",
    "    print \"Accuracy: {}\\nROC AUC: {}\".format(acc,roc_auc)\n",
    "    \n",
    "    TP = np.sum(y_test * y_pred)\n",
    "    TN = np.sum(y_test + y_pred == 0)\n",
    "    FP = np.sum((y_test  == 0) * (y_pred == 1))\n",
    "    FN = np.sum((y_test  == 1) * (y_pred == 0))\n",
    "    try:\n",
    "        TPR = float(TP) / (TP + FN)\n",
    "        TNR = float(TN) / (TN + FP)\n",
    "        FPR = float(FP) / (FP + TN)\n",
    "        NPV = float(TN) / (TN + FN)\n",
    "        FDR = float(FP) / (TP + FP)\n",
    "        acc = accuracy_score(y_test, y_pred)\n",
    "        prec = precision_score(y_test, y_pred)\n",
    "        rec = recall_score(y_test, y_pred)\n",
    "        print '''\n",
    "True Positive: {}\n",
    "True Negative: {} \n",
    "False Positive: {}\n",
    "False Negative: {}\n",
    "True Positive Rate: {}\n",
    "True Negative Rate: {}\n",
    "Negative Predictive Value: {}\n",
    "False Positive Rate: {}\n",
    "False Discovery Rate: {}\n",
    "Precision: {}\n",
    "Recall: {}'''.format(TP, TN, FP, FN, TPR, TNR, NPV, FPR, FDR, prec, rec)\n",
    "    except:\n",
    "        print 'sorry'"
   ]
  },
  {
   "cell_type": "code",
   "execution_count": 27,
   "metadata": {
    "collapsed": true
   },
   "outputs": [],
   "source": [
    "attrib_names = [\n",
    "'top-left-square',\n",
    "'top-middle-square',\n",
    "'top-right-square',\n",
    "'middle-left-square',\n",
    "'middle-middle-square',\n",
    "'middle-right-square',\n",
    "'bottom-left-square',\n",
    "'bottom-middle-square',\n",
    "'bottom-right-square',\n",
    "]\n",
    "\n",
    "#attrib_names = [ str(i) for i in range(0,37) ]\n"
   ]
  },
  {
   "cell_type": "code",
   "execution_count": 28,
   "metadata": {
    "collapsed": true
   },
   "outputs": [],
   "source": [
    "def make_intent(example):\n",
    "    global attrib_names\n",
    "    return set([i+':'+str(k) for i, k in zip(attrib_names, example)])"
   ]
  },
  {
   "cell_type": "code",
   "execution_count": 29,
   "metadata": {
    "collapsed": true
   },
   "outputs": [],
   "source": [
    "def read_files(indexes_train, indexes_test):\n",
    "    \n",
    "    plus=[]\n",
    "    minus=[]\n",
    "    x_test=[]\n",
    "    y_test=[]\n",
    "\n",
    "    for index in indexes_train:\n",
    "        index=str(index)\n",
    "#        q = open(\"./kr/kr-vs-kp.data_train_\" + index + \".txt\", \"r\")\n",
    "        q = open(\"../train\" + index + \".csv\", \"r\")\n",
    "        positive = \"positive\"\n",
    "        negative = \"negative\"\n",
    "#        positive = \"won\"\n",
    "#        negative = \"nowin\"\n",
    "        train = [a.strip().split(\",\") for a in q]\n",
    "        _plus = [make_intent(a[:-1]) for a in train if a[-1] == positive]\n",
    "        _minus = [make_intent(a[:-1]) for a in train if a[-1] == negative]\n",
    "        q.close()\n",
    "        plus+=_plus\n",
    "        minus+=_minus   \n",
    "        \n",
    "    for index in indexes_test:\n",
    "        index=str(index)\n",
    "#        w = open(\"./kr/kr-vs-kp.data_validation_\" + index + \".txt\", \"r\")\n",
    "        w = open(\"../test\" + index + \".csv\", \"r\")\n",
    "        _unknown = [a.strip().split(\",\") for a in w]\n",
    "\n",
    "        _x_test = [make_intent(a[:-1]) for a in _unknown]\n",
    "        _y_test = [1 if a[-1] == positive else 0 for a in _unknown ]\n",
    "        del _x_test[0]\n",
    "        del _y_test[0]\n",
    "        w.close()\n",
    "        x_test+=_x_test\n",
    "        y_test+=_y_test\n",
    "        \n",
    "    return plus, minus, x_test, y_test"
   ]
  },
  {
   "cell_type": "code",
   "execution_count": 17,
   "metadata": {},
   "outputs": [],
   "source": [
    "plus, minus, x_test, y_test = read_files([1],[1])"
   ]
  },
  {
   "cell_type": "code",
   "execution_count": 18,
   "metadata": {},
   "outputs": [
    {
     "data": {
      "text/plain": [
       "(565, 300, 93)"
      ]
     },
     "execution_count": 18,
     "metadata": {},
     "output_type": "execute_result"
    }
   ],
   "source": [
    "len(plus), len(minus), len(x_test)"
   ]
  },
  {
   "cell_type": "code",
   "execution_count": 54,
   "metadata": {},
   "outputs": [
    {
     "name": "stdout",
     "output_type": "stream",
     "text": [
      "0\n"
     ]
    }
   ],
   "source": [
    "# Пересечения\n",
    "count = 0\n",
    "for i in plus:\n",
    "    for j in x_test:\n",
    "        if i == j: \n",
    "            count+=1\n",
    "print count"
   ]
  },
  {
   "cell_type": "code",
   "execution_count": null,
   "metadata": {},
   "outputs": [],
   "source": []
  },
  {
   "cell_type": "markdown",
   "metadata": {},
   "source": [
    "# 1.\n",
    "Алгоритм основан на нормированной сумме мощности пересечения признаков неизвестного примера с примерами-(+) и примерами-(-). Неизвестный пример относится к тому набору, где эта сумма больша."
   ]
  },
  {
   "cell_type": "code",
   "execution_count": 30,
   "metadata": {},
   "outputs": [],
   "source": [
    "def vlob(plus, minus, x_test, y_test):\n",
    "    y_pred=[]\n",
    "    for i in x_test:\n",
    "        unkn_set=i\n",
    "        pos=0\n",
    "        neg=0\n",
    "\n",
    "        for j in plus:\n",
    "            pos_set=j\n",
    "            res=pos_set & unkn_set\n",
    "            pos+=float(len(res)) / len(pos_set)\n",
    "        pos=float(pos) / len(plus) \n",
    "\n",
    "        for j in minus:\n",
    "            neg_set=j\n",
    "            res=neg_set & unkn_set\n",
    "            neg+=float(len(res)) / len(neg_set)\n",
    "        neg=float(neg) / len(minus) \n",
    "\n",
    "        if (pos < neg):\n",
    "            y_pred.append(0)\n",
    "        else:\n",
    "            y_pred.append(1)\n",
    "\n",
    "    y_pred=np.array(y_pred)\n",
    "    y_test=np.array(y_test)\n",
    "    \n",
    "    return print_metris(y_test, y_pred)"
   ]
  },
  {
   "cell_type": "code",
   "execution_count": null,
   "metadata": {
    "collapsed": true
   },
   "outputs": [],
   "source": []
  },
  {
   "cell_type": "markdown",
   "metadata": {},
   "source": [
    "# 2.\n",
    "\n",
    "\n",
    "#### Простой алгоритм. \n",
    "\n",
    "Пересекаем с положительным и проверяем чтобы пересечение не вкладывалось ни в одно отрицательное. если все так, то начисляем голос в виде \"относительной мощности пересечения\".  \n",
    "\n",
    "То же самое для отрицательных. \n",
    "\n",
    "Где сумма накопленных \"голосов\" больше - туда и классифицируем, в случае равенства смотрим по поддержке как в алгоритме 3.2 (с порогом 10.)"
   ]
  },
  {
   "cell_type": "code",
   "execution_count": 43,
   "metadata": {
    "collapsed": true
   },
   "outputs": [],
   "source": [
    "def is_in_intent(plus, minus, x_test, y_test):\n",
    "    y_pred=[]\n",
    "    counter=0\n",
    "    for i in x_test:\n",
    "        counter+=1\n",
    "        unkn_set=i\n",
    "        pos=0\n",
    "        neg=0\n",
    "\n",
    "        for j in plus:\n",
    "            pos_set=j\n",
    "            res=pos_set & unkn_set\n",
    "            closure=0\n",
    "            for k in minus:\n",
    "                if k.issuperset(res):\n",
    "                    closure+=1\n",
    "                    break\n",
    "                    \n",
    "            if closure==0:\n",
    "                pos+=float(len(res)) / len(pos_set)\n",
    "        pos=float(pos) / len(plus)   \n",
    "\n",
    "        for j in minus:\n",
    "            neg_set=j\n",
    "            res=neg_set & unkn_set\n",
    "            closure=0\n",
    "            for k in plus:\n",
    "                if k.issuperset(res):\n",
    "                    closure+=1\n",
    "                    break\n",
    "                    \n",
    "            if closure==0:\n",
    "                neg+=float(len(res)) / len(neg_set)\n",
    "        neg=float(neg) / len(minus) \n",
    "\n",
    "#        if (counter % 10 == 0):\n",
    "#            print 'done {} %'.format( round(float(counter)/len(x_test)*100, 2) )\n",
    "\n",
    "        if (pos < neg):\n",
    "            y_pred.append(0)\n",
    "        else:\n",
    "            if (neg < pos):\n",
    "                y_pred.append(1)\n",
    "            else:\n",
    "                # берем алгоритм 3. -- киллер фича.\n",
    "                tresh=10 # порог вычисленный.\n",
    "                if (pos==0 and neg==0):\n",
    "                    for j in plus:\n",
    "                        pos_set=j\n",
    "                        res=pos_set & unkn_set\n",
    "                        if len(res)!=0:\n",
    "                            closure1=0.0\n",
    "                            for k in plus:\n",
    "                                if k.issuperset(res) and k!=j:\n",
    "                                    closure1+=1\n",
    "                            if closure1>tresh:\n",
    "                                pos+= float(closure1) / len(plus) * float(len(res)) / len(pos_set)\n",
    "                    pos=  float(pos) / len(plus) \n",
    "\n",
    "                    for j in minus:\n",
    "                        neg_set=j\n",
    "                        res=neg_set & unkn_set\n",
    "                        if len(res)!=0:\n",
    "                            closure2=0\n",
    "                            for k in minus :\n",
    "                                if k.issuperset(res) and k!=j:\n",
    "                                    closure2+=1\n",
    "                            if closure2>tresh:        \n",
    "                                neg+=float(closure2) / len(minus) * float(len(res)) / len(neg_set) \n",
    "                    neg =  float(neg) / len(minus) \n",
    "\n",
    "                    if (pos < neg):\n",
    "                        y_pred.append(0)\n",
    "                    else:\n",
    "                        y_pred.append(1)\n",
    "            \n",
    "            \n",
    "\n",
    "    y_pred=np.array(y_pred)\n",
    "    y_test=np.array(y_test)\n",
    "    \n",
    "    return print_metris(y_test, y_pred)"
   ]
  },
  {
   "cell_type": "markdown",
   "metadata": {
    "collapsed": true
   },
   "source": [
    "# Test \n",
    "\n",
    "### Скользящий контроль - обучается, тестируем."
   ]
  },
  {
   "cell_type": "code",
   "execution_count": 31,
   "metadata": {
    "collapsed": true
   },
   "outputs": [],
   "source": [
    "def print_metris(y_test, y_pred):\n",
    "    acc = accuracy_score(y_test, y_pred)\n",
    "    return acc"
   ]
  },
  {
   "cell_type": "markdown",
   "metadata": {},
   "source": [
    "##### 1 алгоритм. "
   ]
  },
  {
   "cell_type": "code",
   "execution_count": 121,
   "metadata": {},
   "outputs": [
    {
     "name": "stdout",
     "output_type": "stream",
     "text": [
      "1  train,  1  test. Accuracy _  0.624\n",
      "2  train,  2  test. Accuracy _  0.644\n",
      "3  train,  3  test. Accuracy _  0.73\n",
      "4  train,  4  test. Accuracy _  0.596\n",
      "5  train,  5  test. Accuracy _  0.618\n",
      "6  train,  6  test. Accuracy _  0.694\n",
      "7  train,  7  test. Accuracy _  0.658\n",
      "8  train,  8  test. Accuracy _  0.664\n",
      "9  train,  9  test. Accuracy _  0.757\n",
      "10  train,  10  test. Accuracy _  0.604\n",
      "finished! in time   0:00:00.741224\n",
      "My average accuracy  0.659\n"
     ]
    }
   ],
   "source": [
    "acc=0.0\n",
    "counter=0\n",
    "begin=datetime.datetime.now()\n",
    "for i in range(1,11):\n",
    "    counter+=1\n",
    "    plus, minus, x_test, y_test = read_files([i],[i])\n",
    "    res_acc=vlob(plus, minus, x_test, y_test)\n",
    "    print i,' train, ', (i), ' test. Accuracy _ ', round(res_acc,3)\n",
    "    acc+=res_acc\n",
    "end=datetime.datetime.now()\n",
    "print 'finished! in time  ',end-begin\n",
    "print 'My average accuracy ',round(acc/counter,3)"
   ]
  },
  {
   "cell_type": "code",
   "execution_count": null,
   "metadata": {
    "collapsed": true
   },
   "outputs": [],
   "source": []
  },
  {
   "cell_type": "markdown",
   "metadata": {},
   "source": [
    "##### 2 алгоритм"
   ]
  },
  {
   "cell_type": "code",
   "execution_count": 44,
   "metadata": {},
   "outputs": [
    {
     "name": "stdout",
     "output_type": "stream",
     "text": [
      "1  train,  1  test. Accuracy _  0.989\n",
      "2  train,  2  test. Accuracy _  0.977\n",
      "3  train,  3  test. Accuracy _  1.0\n",
      "4  train,  4  test. Accuracy _  0.978\n",
      "5  train,  5  test. Accuracy _  0.978\n",
      "6  train,  6  test. Accuracy _  1.0\n",
      "7  train,  7  test. Accuracy _  0.991\n",
      "8  train,  8  test. Accuracy _  0.991\n",
      "9  train,  9  test. Accuracy _  1.0\n",
      "10  train,  10  test. Accuracy _  1.0\n",
      "finished! in time   0:00:09.279442\n",
      "My average accuracy  0.990319726164\n"
     ]
    }
   ],
   "source": [
    "acc=0.0\n",
    "counter=0\n",
    "begin=datetime.datetime.now()\n",
    "for i in range(1,11):\n",
    "    counter+=1\n",
    "    plus, minus, x_test, y_test = read_files([i],[i])\n",
    "    res_acc=is_in_intent(plus, minus, x_test, y_test)\n",
    "    print i,' train, ', (i), ' test. Accuracy _ ', round(res_acc,3)\n",
    "    acc+=res_acc\n",
    "end=datetime.datetime.now()\n",
    "print 'finished! in time  ',end-begin\n",
    "print 'My average accuracy ',float(acc)/counter"
   ]
  }
 ],
 "metadata": {
  "kernelspec": {
   "display_name": "Python 3",
   "language": "python",
   "name": "python3"
  },
  "language_info": {
   "codemirror_mode": {
    "name": "ipython",
    "version": 3
   },
   "file_extension": ".py",
   "mimetype": "text/x-python",
   "name": "python",
   "nbconvert_exporter": "python",
   "pygments_lexer": "ipython3",
   "version": "3.8.5"
  }
 },
 "nbformat": 4,
 "nbformat_minor": 1
}
